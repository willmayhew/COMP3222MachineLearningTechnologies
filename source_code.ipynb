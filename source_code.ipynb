{
 "cells": [
  {
   "cell_type": "code",
   "execution_count": 131,
   "metadata": {},
   "outputs": [],
   "source": [
    "# Import required libraries\n",
    "# !pip install pandas\n",
    "# !pip install scikit-learn\n",
    "# !pip install nltk\n",
    "# !pip install matplotlib\n",
    "# !pip install emoji\n",
    "# !pip install langdetect\n",
    "# !pip install seaborn\n",
    "\n",
    "# Import necessary libraries\n",
    "import pandas as pd\n",
    "import numpy as np\n",
    "import seaborn as sns\n",
    "import nltk\n",
    "import re\n",
    "import emoji\n",
    "from langdetect import detect\n",
    "\n",
    "from sklearn.feature_extraction.text import TfidfVectorizer, CountVectorizer\n",
    "from sklearn.decomposition import PCA\n",
    "from sklearn.ensemble import RandomForestClassifier\n",
    "from sklearn.svm import SVC\n",
    "from sklearn.metrics import confusion_matrix\n",
    "from sklearn.naive_bayes import MultinomialNB\n",
    "from nltk.corpus import stopwords\n",
    "from nltk.stem import PorterStemmer\n",
    "from nltk.tokenize import word_tokenize\n",
    "from nltk.stem import WordNetLemmatizer\n",
    "\n",
    "# Download NLTK resources if needed\n",
    "# nltk.download('wordnet')\n",
    "# nltk.download('stopwords')\n",
    "# nltk.download('punkt')\n",
    "\n",
    "import matplotlib.pyplot as plt\n"
   ]
  },
  {
   "cell_type": "markdown",
   "metadata": {},
   "source": [
    "## Functions"
   ]
  },
  {
   "cell_type": "code",
   "execution_count": 132,
   "metadata": {},
   "outputs": [],
   "source": [
    "def preprocess_text(text):\n",
    "\n",
    "     # TO LOWER CASE\n",
    "    text = text.lower()\n",
    "\n",
    "    # REMOVE EMOJIS\n",
    "    # From https://stackoverflow.com/questions/33404752/removing-emojis-from-a-string-in-python/49146722#49146722\n",
    "    def remove_emoji(string):\n",
    "        emoji_pattern = re.compile(\"[\"\n",
    "                               u\"\\U0001F600-\\U0001F64F\"  # emoticons\n",
    "                               u\"\\U0001F300-\\U0001F5FF\"  # symbols & pictographs\n",
    "                               u\"\\U0001F680-\\U0001F6FF\"  # transport & map symbols\n",
    "                               u\"\\U0001F1E0-\\U0001F1FF\"  # flags (iOS)\n",
    "                               u\"\\U00002702-\\U000027B0\"\n",
    "                               u\"\\U000024C2-\\U0001F251\"\n",
    "                               \"]+\", flags=re.UNICODE)\n",
    "        return emoji_pattern.sub(r'', string)\n",
    "        # return emoji.replace_emoji(string, replace='')\n",
    "\n",
    "    # REMOVE URLs\n",
    "    def remove_URLs(text):\n",
    "        first = re.sub(r\"http\\S+\", \"\", text)\n",
    "        return re.sub(r\"\\\\\\/\\S+\", \"\", first)\n",
    "\n",
    "    # REMOVE USERNAME MENTIONS\n",
    "    def remove_Mentions(text):\n",
    "        return re.sub(r\"@\\w+\",\"\", text)\n",
    "\n",
    "    # REMOVE STOP WORDS\n",
    "    def remove_stopwords(text):\n",
    "        stop_words = set(stopwords.words('english'))\n",
    "        words = text.split()\n",
    "        filtered_words = [word for word in words if word.lower() not in stop_words]\n",
    "        filtered_text = ' '.join(filtered_words)\n",
    "        return filtered_text\n",
    "\n",
    "\n",
    "    # REMOVE SPECIAL CHARACTERS\n",
    "    def clean_text(text):\n",
    "        return re.sub(r'[^a-zA-Z0-9\\s]', '', text)\n",
    "    \n",
    "    def stem_words(text):\n",
    "        porter = PorterStemmer()\n",
    "        words = word_tokenize(text)\n",
    "        stemmed_words = [porter.stem(word) for word in words]\n",
    "\n",
    "        return ' '.join(stemmed_words)\n",
    "    \n",
    "    def lemmatize_words(text):\n",
    "        tokens = word_tokenize(text)\n",
    "        lemmatizer = WordNetLemmatizer()\n",
    "        lemmatized_words = [lemmatizer.lemmatize(word) for word in tokens]\n",
    "        return ' '.join(lemmatized_words)\n",
    "\n",
    "    \n",
    "    text = remove_emoji(text)\n",
    "    text = remove_URLs(text)\n",
    "    text = remove_Mentions(text)\n",
    "    text = remove_stopwords(text)\n",
    "    text = clean_text(text)\n",
    "    # text = stem_words(text)\n",
    "    # text = lemmatize_words(text)\n",
    "    return text"
   ]
  },
  {
   "cell_type": "code",
   "execution_count": 133,
   "metadata": {},
   "outputs": [],
   "source": [
    "def stem_words(text):\n",
    "    porter = PorterStemmer()\n",
    "    words = word_tokenize(text)\n",
    "    stemmed_words = [porter.stem(word) for word in words]\n",
    "    return ' '.join(stemmed_words)"
   ]
  },
  {
   "cell_type": "code",
   "execution_count": 134,
   "metadata": {},
   "outputs": [],
   "source": [
    "def lemmatize_words(text):\n",
    "    tokens = word_tokenize(text)\n",
    "    lemmatizer = WordNetLemmatizer()\n",
    "    lemmatized_words = [lemmatizer.lemmatize(word) for word in tokens]\n",
    "    return ' '.join(lemmatized_words)"
   ]
  },
  {
   "cell_type": "code",
   "execution_count": 135,
   "metadata": {},
   "outputs": [],
   "source": [
    "def getMetrics(y_true, y_pred):\n",
    "    # Calculate confusion matrix\n",
    "    conf_matrix = confusion_matrix(y_true, y_pred, labels=['fake','real'])\n",
    "    TP, FP, FN, TN = conf_matrix.ravel()\n",
    "    print(\"Confusion Matrix:\")\n",
    "    print(conf_matrix)\n",
    "    \n",
    "    precision = TP / (TP + FP)\n",
    "    recall = TP / (TP + FN)\n",
    "    f1 = 2 * ((precision * recall) / (precision + recall))\n",
    "    \n",
    "    print(\"TP: %d FP: %d TN: %d FN: %d\" % (TP, FP, TN, FN))\n",
    "    print(\"Precision: %0.3f\" % precision)\n",
    "    print(\"Recall: %0.3f\" % recall)\n",
    "    print(\"F1 Score: %0.3f\" % f1)\n",
    "\n",
    "    # Plot confusion matrix as a heatmap\n",
    "    sns.heatmap(conf_matrix, annot=True, cmap='Blues', fmt='g', xticklabels=['fake','real'], yticklabels=['fake','real'])\n",
    "    plt.xlabel('Predicted')\n",
    "    plt.ylabel('Actual')\n",
    "    plt.title('Confusion Matrix\\nPrecision: %0.3f, Recall: %0.3f, F1 Score: %0.3f' % (precision, recall, f1))\n",
    "    \n",
    "    plt.savefig('imgs/confMatrix.png', bbox_inches='tight')\n",
    "    plt.show()"
   ]
  },
  {
   "cell_type": "markdown",
   "metadata": {},
   "source": [
    "## Loading the Data"
   ]
  },
  {
   "cell_type": "code",
   "execution_count": 136,
   "metadata": {},
   "outputs": [
    {
     "name": "stdout",
     "output_type": "stream",
     "text": [
      "<class 'pandas.core.frame.DataFrame'>\n",
      "RangeIndex: 14277 entries, 0 to 14276\n",
      "Data columns (total 7 columns):\n",
      " #   Column      Non-Null Count  Dtype \n",
      "---  ------      --------------  ----- \n",
      " 0   tweetId     14277 non-null  int64 \n",
      " 1   tweetText   14277 non-null  object\n",
      " 2   userId      14277 non-null  int64 \n",
      " 3   imageId(s)  14277 non-null  object\n",
      " 4   username    14277 non-null  object\n",
      " 5   timestamp   14277 non-null  object\n",
      " 6   label       14277 non-null  object\n",
      "dtypes: int64(2), object(5)\n",
      "memory usage: 780.9+ KB\n"
     ]
    }
   ],
   "source": [
    "# Load training and test data\n",
    "train_df = pd.read_csv(\"dataset/mediaeval-2015-trainingset.txt\", sep=\"\\t\")\n",
    "test_df = pd.read_csv(\"dataset/mediaeval-2015-testset.txt\", sep=\"\\t\")\n",
    "\n",
    "train_df.info()\n",
    "\n",
    "# Replace 'humor' label with 'fake' -------------------------------------------------------------------\n",
    "train_df['label'] = train_df['label'].replace('humor', 'fake')\n",
    "test_df['label'] = test_df['label'].replace('humor', 'fake')"
   ]
  },
  {
   "cell_type": "markdown",
   "metadata": {},
   "source": [
    "## Data Analysis"
   ]
  },
  {
   "cell_type": "markdown",
   "metadata": {},
   "source": [
    "### Count number of real/fake/humor labels"
   ]
  },
  {
   "cell_type": "code",
   "execution_count": 137,
   "metadata": {},
   "outputs": [],
   "source": [
    "# # Count real/fake/homor labels\n",
    "# label_counts = train_df['label'].value_counts()\n",
    "# fake_humor_sum = label_counts.get('fake', 0) + label_counts.get('humor', 0)\n",
    "# label_counts['fake+humor'] = fake_humor_sum\n",
    "# ordered_labels = ['real', 'fake+humor', 'fake', 'humor']\n",
    "# label_counts = label_counts.reindex(ordered_labels)\n",
    "\n",
    "# plt.figure(figsize=(6, 4))\n",
    "# label_counts.plot(kind='bar', color=['green', 'blue', 'red', 'orange'])\n",
    "\n",
    "# plt.title(\"Number of real/fake/humor Labels\")\n",
    "# plt.xlabel(\"Tweet Category\")\n",
    "# plt.ylabel(\"Frequency\")\n",
    "\n",
    "# # Add text labels on top of each bar\n",
    "# for i, val in enumerate(label_counts):\n",
    "#     plt.text(i, val + 10, str(val), ha='center', va='bottom')\n",
    "\n",
    "# plt.savefig('imgs/labelFreq.png', bbox_inches='tight') \n",
    "\n",
    "# plt.show()\n",
    "\n",
    "# print(train_df['label'].value_counts())"
   ]
  },
  {
   "cell_type": "markdown",
   "metadata": {},
   "source": [
    "### Tweet lengths"
   ]
  },
  {
   "cell_type": "code",
   "execution_count": 138,
   "metadata": {},
   "outputs": [],
   "source": [
    "# # Calculate text length and plot text length distribution\n",
    "\n",
    "# text_lengths = train_df['tweetText'].apply(len)\n",
    "\n",
    "# plt.figure(figsize=(6, 4))\n",
    "# plt.hist(text_lengths, bins=range(0,170,10), color='skyblue')\n",
    "# plt.title('Text Length Distribution')\n",
    "# plt.xlabel('Text Length')\n",
    "# plt.ylabel('Frequency')\n",
    "# plt.grid(True)\n",
    "\n",
    "# plt.savefig('imgs/textLengthDist.png', bbox_inches='tight') \n",
    "\n",
    "# plt.show()\n",
    "\n",
    "# # Plotting text length distribution for 'real' and 'fake/humor' tweets\n",
    "# plt.figure(figsize=(6, 4))\n",
    "\n",
    "# plt.hist(train_df[train_df['label'].isin(['fake', 'humor'])]['tweetText'].apply(len), bins=range(0,170,10), color='blue', alpha=0.7, label='Fake/Humor')\n",
    "# plt.hist(train_df[train_df['label'] == 'real']['tweetText'].apply(len), bins=range(0,170,10), color='green', alpha=0.7, label='Real')\n",
    "\n",
    "# plt.title('Text Length Distribution for Real and Fake/Humor Tweets')\n",
    "# plt.xlabel('Text Length')\n",
    "# plt.ylabel('Frequency')\n",
    "# plt.legend()\n",
    "# plt.grid(True)\n",
    "\n",
    "# plt.savefig('imgs/textLengthDistRvF.png', bbox_inches='tight')  # bbox_inches='tight' ensures the entire plot is saved without cropping\n",
    "\n",
    "# plt.show()\n",
    "\n",
    "# # Max tweet length is 140 characters\n",
    "# print(f\"Largest character length in a tweet: {text_lengths.max()} characters\")\n",
    "# print(f\"Number of tweets with more than 140 characers: {sum(text_lengths > 140)}\")\n",
    "\n",
    "# tweets_within_range = train_df[\n",
    "#     (train_df['tweetText'].str.len() > 140) &\n",
    "#     (train_df['tweetText'].str.len() <= 189)\n",
    "# ]\n",
    "\n",
    "# print(len(tweets_within_range))"
   ]
  },
  {
   "cell_type": "markdown",
   "metadata": {},
   "source": [
    "### Emoji Frequency"
   ]
  },
  {
   "cell_type": "code",
   "execution_count": 139,
   "metadata": {},
   "outputs": [],
   "source": [
    "# # Function to count emojis in a tweet\n",
    "# def count_emojis(text):\n",
    "#     return len([c for c in text if c in emoji.EMOJI_DATA])\n",
    "\n",
    "# # Count emojis per tweet\n",
    "# train_df['emojis_count'] = train_df['finalTweet'].apply(count_emojis)\n",
    "\n",
    "# print(train_df['emojis_count'].value_counts())\n",
    "\n",
    "# # Calculate average number of emojis per tweet for real and fake/humor categories\n",
    "# average_emojis_per_tweet = train_df.groupby('label')['emojis_count'].mean()\n",
    "\n",
    "# # Plot the average number of emojis per tweet for real and fake/humor categories\n",
    "# plt.figure(figsize=(6, 4))\n",
    "# average_emojis_per_tweet.plot(kind='bar', color=['salmon', 'salmon', 'skyblue'])\n",
    "# plt.title('Average Number of Emojis per Tweet')\n",
    "# plt.xlabel('Tweet Category')\n",
    "# plt.ylabel('Average Emojis per Tweet')\n",
    "# plt.grid(axis='y')\n",
    "\n",
    "# # Add text labels on top of each bar\n",
    "# for i, val in enumerate(average_emojis_per_tweet.values):\n",
    "#     plt.text(i, val, round(val,2), ha='center', va='bottom')\n",
    "\n",
    "# plt.savefig('imgs/emojiFreq.png', bbox_inches='tight')\n",
    "\n",
    "# plt.show()"
   ]
  },
  {
   "cell_type": "markdown",
   "metadata": {},
   "source": [
    "### URL Frequency\n"
   ]
  },
  {
   "cell_type": "code",
   "execution_count": 140,
   "metadata": {},
   "outputs": [],
   "source": [
    "# # Function to count urls in a tweet\n",
    "# def count_urls(text):\n",
    "#     return text.count('http://') + text.count('https://')\n",
    "\n",
    "# # Count urls per tweet\n",
    "# train_df['url_count'] = train_df['tweetText'].apply(count_urls)\n",
    "\n",
    "# print(train_df['url_count'].value_counts())\n",
    "\n",
    "# # Calculate average number of urls per tweet for real and fake/humor categories\n",
    "# average_urls_per_tweet = train_df.groupby('label')['url_count'].mean()\n",
    "\n",
    "# # Plot the average number of urls per tweet for real and fake/humor categories\n",
    "# plt.figure(figsize=(6, 4))\n",
    "# average_urls_per_tweet.plot(kind='bar', color=['salmon', 'salmon', 'skyblue'])\n",
    "# plt.title('Average Number of URLs per Tweet')\n",
    "# plt.xlabel('Tweet Category')\n",
    "# plt.ylabel('Average URLs per Tweet')\n",
    "# plt.grid(axis='y')\n",
    "\n",
    "# for i, val in enumerate(average_urls_per_tweet.values):\n",
    "#     plt.text(i, val, round(val,2), ha='center', va='bottom')\n",
    "\n",
    "# plt.savefig('imgs/urlFreq.png', bbox_inches='tight')\n",
    "\n",
    "# plt.show()"
   ]
  },
  {
   "cell_type": "markdown",
   "metadata": {},
   "source": [
    "### Hashtag Frequency"
   ]
  },
  {
   "cell_type": "code",
   "execution_count": 141,
   "metadata": {},
   "outputs": [],
   "source": [
    "# # Function to count hashtags in a tweet\n",
    "# def count_hashtags(text):\n",
    "#     hashtags = re.findall(r'#\\w+', text)  # Using regular expression to find hashtags\n",
    "#     return len(hashtags)\n",
    "\n",
    "# # Count hashtags per tweet\n",
    "# train_df['hashtag_count'] = train_df['tweetText'].apply(count_hashtags)\n",
    "\n",
    "# print(train_df['hashtag_count'].value_counts())\n",
    "\n",
    "# # Calculate average number of hashtags per tweet for real and fake/humor categories\n",
    "# average_hashtag_per_tweet = train_df.groupby('label')['hashtag_count'].mean()\n",
    "\n",
    "# # Plot the average number of hashtags per tweet for real and fake/humor categories\n",
    "# plt.figure(figsize=(6, 4))\n",
    "# average_hashtag_per_tweet.plot(kind='bar', color=['salmon', 'salmon', 'skyblue'])\n",
    "# plt.title('Average Number of Hashtags per Tweet')\n",
    "# plt.xlabel('Tweet Category')\n",
    "# plt.ylabel('Average Hashtags per Tweet')\n",
    "# plt.grid(axis='y')\n",
    "\n",
    "# for i, val in enumerate(average_hashtag_per_tweet.values):\n",
    "#     plt.text(i, val, round(val,2), ha='center', va='bottom')\n",
    "\n",
    "# plt.savefig('imgs/hashtagFreq.png', bbox_inches='tight')\n",
    "\n",
    "# plt.show()"
   ]
  },
  {
   "cell_type": "markdown",
   "metadata": {},
   "source": [
    "### Mention Frequency"
   ]
  },
  {
   "cell_type": "code",
   "execution_count": 142,
   "metadata": {},
   "outputs": [],
   "source": [
    "# # Function to count mentions in a tweet\n",
    "# def count_mentions(text):\n",
    "#     mentions = re.findall(r'@\\w+', text)\n",
    "#     return len(mentions)\n",
    "\n",
    "# # Count mentions per tweet\n",
    "# train_df['mention_count'] = train_df['tweetText'].apply(count_mentions)\n",
    "\n",
    "# print(train_df['mention_count'].value_counts())\n",
    "\n",
    "# # Calculate average number of mentions per tweet for real and fake/humor categories\n",
    "# average_mention_per_tweet = train_df.groupby('label')['mention_count'].mean()\n",
    "\n",
    "# # Plot the average number of mentions per tweet for real and fake/humor categories\n",
    "# plt.figure(figsize=(6, 4))\n",
    "# average_mention_per_tweet.plot(kind='bar', color=['salmon', 'salmon', 'skyblue'])\n",
    "# plt.title('Average Number of Mentions per Tweet')\n",
    "# plt.xlabel('Tweet Category')\n",
    "# plt.ylabel('Average Mentions per Tweet')\n",
    "# plt.grid(axis='y')\n",
    "\n",
    "# for i, val in enumerate(average_mention_per_tweet.values):\n",
    "#     plt.text(i, val, round(val,2), ha='center', va='bottom')\n",
    "\n",
    "# plt.savefig('imgs/mentionFreq.png', bbox_inches='tight')\n",
    "\n",
    "# plt.show()"
   ]
  },
  {
   "cell_type": "markdown",
   "metadata": {},
   "source": [
    "### Special Character Frequency"
   ]
  },
  {
   "cell_type": "code",
   "execution_count": 143,
   "metadata": {},
   "outputs": [],
   "source": [
    "# # Function to count special chars in a tweet\n",
    "# def count_special(text):\n",
    "#     pattern = r'[^a-zA-Z0-9\\s]'\n",
    "#     special_char_count = len(re.findall(pattern, text))\n",
    "    \n",
    "#     return special_char_count\n",
    "\n",
    "# # Count special chars per tweet\n",
    "# train_df['specialChar_count'] = train_df['tweetText'].apply(count_special)\n",
    "\n",
    "# print(train_df['specialChar_count'].value_counts())\n",
    "\n",
    "# # Calculate average number of special chars per tweet for real and fake/humor categories\n",
    "# average_specialChar_per_tweet = train_df.groupby('label')['specialChar_count'].mean()\n",
    "\n",
    "# # Plot the average number of special chars per tweet for real and fake/humor categories\n",
    "# plt.figure(figsize=(6, 4))\n",
    "# average_specialChar_per_tweet.plot(kind='bar', color=['salmon', 'salmon', 'skyblue'])\n",
    "# plt.title('Average Number of Special Characters per Tweet')\n",
    "# plt.xlabel('Tweet Category')\n",
    "# plt.ylabel('Average Special Characters per Tweet')\n",
    "# plt.grid(axis='y')\n",
    "\n",
    "# for i, val in enumerate(average_specialChar_per_tweet.values):\n",
    "#     plt.text(i, val, round(val,2), ha='center', va='bottom')\n",
    "\n",
    "# plt.savefig('imgs/specialCharFreq.png', bbox_inches='tight')\n",
    "\n",
    "# plt.show()"
   ]
  },
  {
   "cell_type": "markdown",
   "metadata": {},
   "source": [
    "### Language"
   ]
  },
  {
   "cell_type": "code",
   "execution_count": 144,
   "metadata": {},
   "outputs": [],
   "source": [
    "# def detect_language(text):\n",
    "#     try:\n",
    "#         return detect(text)\n",
    "#     except:\n",
    "#         return 'unknown'  # Return 'unknown' for cases where language detection fails\n",
    "\n",
    "# # Apply language detection to 'tweetText' column\n",
    "# train_df['language'] = train_df['tweetText'].apply(detect_language)\n",
    "\n",
    "# # Count the frequency of each language\n",
    "# language_freq = train_df['language'].value_counts()\n",
    "\n",
    "# # Display the frequency of different languages\n",
    "# print(language_freq)"
   ]
  },
  {
   "cell_type": "code",
   "execution_count": 145,
   "metadata": {},
   "outputs": [],
   "source": [
    "# # Select the top 5 languages\n",
    "# top_languages = language_freq.head(3)\n",
    "\n",
    "# # Sum frequencies of other languages\n",
    "# other_languages_total = language_freq.sum() - top_languages.sum()\n",
    "\n",
    "# # Create a DataFrame for top 3 languages and 'Other'\n",
    "# df_combined = pd.concat([top_languages, pd.Series({'Other': other_languages_total})])\n",
    "\n",
    "# # Plotting the pie chart\n",
    "# plt.figure(figsize=(8,6))\n",
    "# plt.pie(df_combined, labels=df_combined.index, autopct='%1.1f%%', startangle=140, colors=plt.cm.tab20.colors)\n",
    "# plt.title('Top 3 Languages and Other')\n",
    "# plt.axis('equal')  # Equal aspect ratio ensures that pie is drawn as a circle\n",
    "# plt.legend(loc='upper right')\n",
    "\n",
    "# plt.savefig('imgs/languageFreq.png', bbox_inches='tight')\n",
    "\n",
    "# plt.show()\n",
    "\n",
    "# print(train_df['language'].nunique())"
   ]
  },
  {
   "cell_type": "code",
   "execution_count": 146,
   "metadata": {},
   "outputs": [],
   "source": [
    "# import matplotlib.pyplot as plt\n",
    "# import pandas as pd\n",
    "# import emoji\n",
    "# import re\n",
    "\n",
    "# # Assuming train_df is defined and contains the necessary columns and data\n",
    "\n",
    "# # Function to count emojis in a tweet\n",
    "# def count_emojis(text):\n",
    "#     return len([c for c in text if c in emoji.EMOJI_DATA])\n",
    "\n",
    "# # Function to count urls in a tweet\n",
    "# def count_urls(text):\n",
    "#     return text.count('http://') + text.count('https://')\n",
    "\n",
    "# # Function to count hashtags in a tweet\n",
    "# def count_hashtags(text):\n",
    "#     hashtags = re.findall(r'#\\w+', text)  # Using regular expression to find hashtags\n",
    "#     return len(hashtags)\n",
    "\n",
    "# # Function to count mentions in a tweet\n",
    "# def count_mentions(text):\n",
    "#     mentions = re.findall(r'@\\w+', text)\n",
    "#     return len(mentions)\n",
    "\n",
    "# # Function to count special chars in a tweet\n",
    "# def count_special(text):\n",
    "#     pattern = r'[^a-zA-Z0-9\\s]'\n",
    "#     special_char_count = len(re.findall(pattern, text))\n",
    "#     return special_char_count\n",
    "\n",
    "# # Apply functions to create columns in the DataFrame\n",
    "# train_df['emojis_count'] = train_df['tweetText'].apply(count_emojis)\n",
    "# train_df['url_count'] = train_df['tweetText'].apply(count_urls)\n",
    "# train_df['hashtag_count'] = train_df['tweetText'].apply(count_hashtags)\n",
    "# train_df['mention_count'] = train_df['tweetText'].apply(count_mentions)\n",
    "# train_df['specialChar_count'] = train_df['tweetText'].apply(count_special)\n",
    "\n",
    "# # Calculate average values for each metric per tweet category\n",
    "# average_metrics = train_df.groupby('label').agg({\n",
    "#     'emojis_count': 'mean',\n",
    "#     'url_count': 'mean',\n",
    "#     'hashtag_count': 'mean',\n",
    "#     'mention_count': 'mean',\n",
    "#     'specialChar_count': 'mean'\n",
    "# })\n",
    "\n",
    "# # Transpose the DataFrame for easy plotting\n",
    "# average_metrics_transposed = average_metrics.T\n",
    "\n",
    "# # Plotting side-by-side bar graphs for each metric\n",
    "# plt.figure(figsize=(10, 6))\n",
    "\n",
    "# # Calculate bar positions\n",
    "# num_metrics = len(average_metrics_transposed.index)\n",
    "# num_categories = len(average_metrics_transposed.columns)\n",
    "# bar_width = 0.3  # Adjust the width of bars\n",
    "# group_width = bar_width * num_categories  # Width for each group of bars\n",
    "\n",
    "# positions = range(num_metrics)\n",
    "# center_positions = [pos + 0.5 * group_width - 0.5 * bar_width for pos in positions]\n",
    "\n",
    "# # Iterate through columns (categories) and plot bars side by side\n",
    "# for i, col in enumerate(reversed(average_metrics_transposed.columns)):  # Reverse the column order\n",
    "#     bar_positions = [pos + i * bar_width for pos in center_positions]\n",
    "#     plt.bar(bar_positions, average_metrics_transposed[col], width=bar_width, label=col)\n",
    "\n",
    "#     # Add text labels on top of each bar\n",
    "#     for j, val in enumerate(average_metrics_transposed[col]):\n",
    "#         plt.text(bar_positions[j], val + 0.02, f'{val:.2f}', ha='center', va='bottom')\n",
    "\n",
    "# plt.xlabel('Metrics')\n",
    "# plt.ylabel('Average Count')\n",
    "# plt.title('Average Metrics per Tweet Category')\n",
    "# plt.xticks([pos + 0.5 * group_width for pos in positions], average_metrics_transposed.index)\n",
    "# plt.legend()\n",
    "\n",
    "# plt.tight_layout()\n",
    "\n",
    "# # Set y-axis ticks in increments of 1\n",
    "# plt.yticks(range(int(plt.ylim()[0]), int(plt.ylim()[1]) + 1))\n",
    "\n",
    "# plt.savefig('imgs/allFreqs.png', bbox_inches='tight')\n",
    "\n",
    "# plt.show()"
   ]
  },
  {
   "cell_type": "markdown",
   "metadata": {},
   "source": [
    "## Pre-Processing"
   ]
  },
  {
   "cell_type": "code",
   "execution_count": 147,
   "metadata": {},
   "outputs": [
    {
     "name": "stdout",
     "output_type": "stream",
     "text": [
      "14277\n",
      "14259\n"
     ]
    }
   ],
   "source": [
    "# Replace 'humor' label with 'fake' -------------------------------------------------------------------\n",
    "train_df['label'] = train_df['label'].replace('humor', 'fake')\n",
    "test_df['label'] = test_df['label'].replace('humor', 'fake')\n",
    "\n",
    "# # REMOVE DUPLICATES | MAYBE DONT REMOVE DUPLICATES AS IT RESEMBLES REALISM -------------------------------------------------------------------\n",
    "# train_data = train_data.drop_duplicates(subset=['tweetText'])\n",
    "\n",
    "print(len(train_df))\n",
    "\n",
    "# Filter out tweets with lengths above 160 characters\n",
    "train_df = train_df[train_df['tweetText'].str.len() <= 160]\n",
    "\n",
    "print(len(train_df))\n",
    "\n",
    "train_df['tweetCleansed'] = train_df['tweetText'].apply(preprocess_text)\n",
    "test_df['tweetCleansed'] = test_df['tweetText'].apply(preprocess_text)\n",
    "\n",
    "train_df['finalTweetStemLemmatize'] = train_df['tweetCleansed'].apply(stem_words).apply(lemmatize_words)\n",
    "test_df['finalTweetStemLemmatize'] = test_df['tweetCleansed'].apply(stem_words).apply(lemmatize_words)\n",
    "\n",
    "train_df['finalTweetLemmatize'] = train_df['tweetCleansed'].apply(lemmatize_words)\n",
    "test_df['finalTweetLemmatize'] = test_df['tweetCleansed'].apply(lemmatize_words)\n",
    "\n",
    "# pd.set_option('display.max_colwidth', None)\n",
    "# print(train_df.head(10))"
   ]
  },
  {
   "cell_type": "markdown",
   "metadata": {},
   "source": [
    "## Algorithm"
   ]
  },
  {
   "cell_type": "code",
   "execution_count": 148,
   "metadata": {},
   "outputs": [],
   "source": [
    "y_train = train_df['label']\n",
    "y_test = test_df['label']"
   ]
  },
  {
   "cell_type": "code",
   "execution_count": 149,
   "metadata": {},
   "outputs": [
    {
     "name": "stdout",
     "output_type": "stream",
     "text": [
      "Confusion Matrix:\n",
      "[[2468   78]\n",
      " [ 427  782]]\n",
      "TP: 2468 FP: 78 TN: 782 FN: 427\n",
      "Precision: 0.969\n",
      "Recall: 0.853\n",
      "F1 Score: 0.907\n"
     ]
    },
    {
     "data": {
      "image/png": "[encoded data removed]",
      "text/plain": [
       "<Figure size 640x480 with 2 Axes>"
      ]
     },
     "metadata": {},
     "output_type": "display_data"
    }
   ],
   "source": [
    "# Feature extraction using TF-IDF\n",
    "tfidfVectorizer = TfidfVectorizer(ngram_range=(1,2))\n",
    "X_train_tfidf = tfidfVectorizer.fit_transform(train_df['finalTweetStemLemmatize'])\n",
    "X_test_tfidf = tfidfVectorizer.transform(test_df['finalTweetStemLemmatize'])\n",
    "\n",
    "# # Apply PCA for dimensionality reduction\n",
    "# n_components = 1000  # Number of components to reduce to\n",
    "# pca = PCA(n_components=n_components)\n",
    "# X_train_reduced = pca.fit_transform(X_train_tfidf.toarray())  # Fit PCA on training data\n",
    "# X_test_reduced = pca.transform(X_test_tfidf.toarray())  # Transform test data using the same PCA\n",
    "\n",
    "# Create a Random Forest classifier\n",
    "rfc_tfidf = RandomForestClassifier(random_state=45)\n",
    "\n",
    "# Train the Random Forest classifier\n",
    "rfc_tfidf.fit(X_train_tfidf, y_train)\n",
    "\n",
    "# Make predictions on the test set\n",
    "rfcPrediction_tfid = rfc_tfidf.predict(X_test_tfidf)\n",
    "\n",
    "getMetrics(y_test, rfcPrediction_tfid)"
   ]
  },
  {
   "cell_type": "code",
   "execution_count": 150,
   "metadata": {},
   "outputs": [
    {
     "name": "stdout",
     "output_type": "stream",
     "text": [
      "Confusion Matrix:\n",
      "[[2057  489]\n",
      " [ 342  867]]\n",
      "TP: 2057 FP: 489 TN: 867 FN: 342\n",
      "Precision: 0.808\n",
      "Recall: 0.857\n",
      "F1 Score: 0.832\n"
     ]
    },
    {
     "data": {
      "image/png": "[encoded data removed]",
      "text/plain": [
       "<Figure size 640x480 with 2 Axes>"
      ]
     },
     "metadata": {},
     "output_type": "display_data"
    }
   ],
   "source": [
    "total_samples = len(y_train)\n",
    "class_weights = {\n",
    "    'fake': total_samples / (2 * 9345),  # Weight for 'fake' class\n",
    "    'real': total_samples / (2 * 4914)  # Weight for 'real' class\n",
    "}\n",
    "\n",
    "countfVectorizer = CountVectorizer()\n",
    "X_train_count = countfVectorizer.fit_transform(train_df['finalTweetLemmatize'])\n",
    "X_test_count = countfVectorizer.transform(test_df['finalTweetLemmatize'])\n",
    "\n",
    "# Create a Support Vector Machine\n",
    "# svm_tfifd = SVC(kernel='linear', C=0.58)\n",
    "svm_tfifd = SVC(kernel='linear', C=0.17, class_weight=class_weights)\n",
    "\n",
    "# Train the Support Vector Machine\n",
    "svm_tfifd.fit(X_train_count, y_train)\n",
    " \n",
    "# Make predictions on the test set\n",
    "svmPrediction_tfifd = svm_tfifd.predict(X_test_count)\n",
    "\n",
    "getMetrics(y_test, svmPrediction_tfifd)"
   ]
  }
 ],
 "metadata": {
  "kernelspec": {
   "display_name": "base",
   "language": "python",
   "name": "python3"
  },
  "language_info": {
   "codemirror_mode": {
    "name": "ipython",
    "version": 3
   },
   "file_extension": ".py",
   "mimetype": "text/x-python",
   "name": "python",
   "nbconvert_exporter": "python",
   "pygments_lexer": "ipython3",
   "version": "3.12.1"
  }
 },
 "nbformat": 4,
 "nbformat_minor": 2
}
